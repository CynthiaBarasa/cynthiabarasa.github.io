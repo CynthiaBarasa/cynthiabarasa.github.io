{
 "cells": [
  {
   "cell_type": "code",
   "execution_count": 1,
   "id": "a476bf90",
   "metadata": {
    "_cell_guid": "b1076dfc-b9ad-4769-8c92-a6c4dae69d19",
    "_uuid": "8f2839f25d086af736a60e9eeb907d3b93b6e0e5",
    "execution": {
     "iopub.execute_input": "2022-12-20T11:56:08.846067Z",
     "iopub.status.busy": "2022-12-20T11:56:08.845645Z",
     "iopub.status.idle": "2022-12-20T11:56:08.855758Z",
     "shell.execute_reply": "2022-12-20T11:56:08.854487Z"
    },
    "papermill": {
     "duration": 0.019015,
     "end_time": "2022-12-20T11:56:08.858322",
     "exception": false,
     "start_time": "2022-12-20T11:56:08.839307",
     "status": "completed"
    },
    "tags": []
   },
   "outputs": [],
   "source": [
    "import pandas as pd   #data processing, CSV file I/O (e.g. pd.read_csv)"
   ]
  },
  {
   "cell_type": "code",
   "execution_count": 2,
   "id": "a3514f77",
   "metadata": {
    "execution": {
     "iopub.execute_input": "2022-12-20T11:56:08.866628Z",
     "iopub.status.busy": "2022-12-20T11:56:08.866016Z",
     "iopub.status.idle": "2022-12-20T11:56:08.872217Z",
     "shell.execute_reply": "2022-12-20T11:56:08.871524Z"
    },
    "papermill": {
     "duration": 0.012738,
     "end_time": "2022-12-20T11:56:08.874459",
     "exception": false,
     "start_time": "2022-12-20T11:56:08.861721",
     "status": "completed"
    },
    "tags": []
   },
   "outputs": [
    {
     "name": "stdout",
     "output_type": "stream",
     "text": [
      "/kaggle/input/titanic/train.csv\n",
      "/kaggle/input/titanic/test.csv\n",
      "/kaggle/input/titanic/gender_submission.csv\n"
     ]
    }
   ],
   "source": [
    "#list all files under the input directory\n",
    "import os\n",
    "for dirname, _, filenames in os.walk('/kaggle/input'):\n",
    "    for filename in filenames:\n",
    "        print(os.path.join(dirname, filename))"
   ]
  },
  {
   "cell_type": "code",
   "execution_count": 3,
   "id": "0158c75f",
   "metadata": {
    "execution": {
     "iopub.execute_input": "2022-12-20T11:56:08.882982Z",
     "iopub.status.busy": "2022-12-20T11:56:08.882657Z",
     "iopub.status.idle": "2022-12-20T11:56:08.932210Z",
     "shell.execute_reply": "2022-12-20T11:56:08.931100Z"
    },
    "papermill": {
     "duration": 0.056543,
     "end_time": "2022-12-20T11:56:08.934589",
     "exception": false,
     "start_time": "2022-12-20T11:56:08.878046",
     "status": "completed"
    },
    "tags": []
   },
   "outputs": [],
   "source": [
    "data = pd.read_csv('/kaggle/input/titanic/train.csv') #Load data that was downloaded from Kaggle, train data\n",
    "test = pd.read_csv('/kaggle/input/titanic/test.csv') #Load data that was downloaded from Kaggle, test data\n",
    "test_ids = test[\"PassengerId\"]\n",
    "\n",
    "def clean(data): #Created a clean function to get some data\n",
    "    data = data.drop([\"Ticket\", \"PassengerId\", \"Name\", \"Cabin\"], axis=1)\n",
    "    \n",
    "    #Dropped the Ticket, PassengerId, Name and Cabin because I think it doesn't give me a lot of information\n",
    "    \n",
    "    cols = [\"SibSp\", \"Parch\", \"Fare\", \"Age\"] #Columns that don't have a number in them\n",
    "    for col in cols: #going through the columns\n",
    "        data[col].fillna(data[col].median(), inplace=True) \n",
    "        #Converting the columns to numbers, fill in the numbers that are not filled with their mean.\n",
    "        \n",
    "    data.Embarked.fillna(\"U\", inplace=True) #Fill the embarked with missing datapoints with unknown tokens\n",
    "    return data\n",
    "\n",
    "data = clean(data)\n",
    "test = clean(test)"
   ]
  },
  {
   "cell_type": "code",
   "execution_count": 4,
   "id": "2e8d15d6",
   "metadata": {
    "execution": {
     "iopub.execute_input": "2022-12-20T11:56:08.943785Z",
     "iopub.status.busy": "2022-12-20T11:56:08.942980Z",
     "iopub.status.idle": "2022-12-20T11:56:08.961308Z",
     "shell.execute_reply": "2022-12-20T11:56:08.960382Z"
    },
    "papermill": {
     "duration": 0.025143,
     "end_time": "2022-12-20T11:56:08.963267",
     "exception": false,
     "start_time": "2022-12-20T11:56:08.938124",
     "status": "completed"
    },
    "tags": []
   },
   "outputs": [
    {
     "data": {
      "text/html": [
       "<div>\n",
       "<style scoped>\n",
       "    .dataframe tbody tr th:only-of-type {\n",
       "        vertical-align: middle;\n",
       "    }\n",
       "\n",
       "    .dataframe tbody tr th {\n",
       "        vertical-align: top;\n",
       "    }\n",
       "\n",
       "    .dataframe thead th {\n",
       "        text-align: right;\n",
       "    }\n",
       "</style>\n",
       "<table border=\"1\" class=\"dataframe\">\n",
       "  <thead>\n",
       "    <tr style=\"text-align: right;\">\n",
       "      <th></th>\n",
       "      <th>Survived</th>\n",
       "      <th>Pclass</th>\n",
       "      <th>Sex</th>\n",
       "      <th>Age</th>\n",
       "      <th>SibSp</th>\n",
       "      <th>Parch</th>\n",
       "      <th>Fare</th>\n",
       "      <th>Embarked</th>\n",
       "    </tr>\n",
       "  </thead>\n",
       "  <tbody>\n",
       "    <tr>\n",
       "      <th>0</th>\n",
       "      <td>0</td>\n",
       "      <td>3</td>\n",
       "      <td>male</td>\n",
       "      <td>22.0</td>\n",
       "      <td>1</td>\n",
       "      <td>0</td>\n",
       "      <td>7.2500</td>\n",
       "      <td>S</td>\n",
       "    </tr>\n",
       "    <tr>\n",
       "      <th>1</th>\n",
       "      <td>1</td>\n",
       "      <td>1</td>\n",
       "      <td>female</td>\n",
       "      <td>38.0</td>\n",
       "      <td>1</td>\n",
       "      <td>0</td>\n",
       "      <td>71.2833</td>\n",
       "      <td>C</td>\n",
       "    </tr>\n",
       "    <tr>\n",
       "      <th>2</th>\n",
       "      <td>1</td>\n",
       "      <td>3</td>\n",
       "      <td>female</td>\n",
       "      <td>26.0</td>\n",
       "      <td>0</td>\n",
       "      <td>0</td>\n",
       "      <td>7.9250</td>\n",
       "      <td>S</td>\n",
       "    </tr>\n",
       "    <tr>\n",
       "      <th>3</th>\n",
       "      <td>1</td>\n",
       "      <td>1</td>\n",
       "      <td>female</td>\n",
       "      <td>35.0</td>\n",
       "      <td>1</td>\n",
       "      <td>0</td>\n",
       "      <td>53.1000</td>\n",
       "      <td>S</td>\n",
       "    </tr>\n",
       "    <tr>\n",
       "      <th>4</th>\n",
       "      <td>0</td>\n",
       "      <td>3</td>\n",
       "      <td>male</td>\n",
       "      <td>35.0</td>\n",
       "      <td>0</td>\n",
       "      <td>0</td>\n",
       "      <td>8.0500</td>\n",
       "      <td>S</td>\n",
       "    </tr>\n",
       "  </tbody>\n",
       "</table>\n",
       "</div>"
      ],
      "text/plain": [
       "   Survived  Pclass     Sex   Age  SibSp  Parch     Fare Embarked\n",
       "0         0       3    male  22.0      1      0   7.2500        S\n",
       "1         1       1  female  38.0      1      0  71.2833        C\n",
       "2         1       3  female  26.0      0      0   7.9250        S\n",
       "3         1       1  female  35.0      1      0  53.1000        S\n",
       "4         0       3    male  35.0      0      0   8.0500        S"
      ]
     },
     "execution_count": 4,
     "metadata": {},
     "output_type": "execute_result"
    }
   ],
   "source": [
    "data.head(5) #Drop some columns and limit them to 5"
   ]
  },
  {
   "cell_type": "code",
   "execution_count": 5,
   "id": "a08c7206",
   "metadata": {
    "execution": {
     "iopub.execute_input": "2022-12-20T11:56:08.974169Z",
     "iopub.status.busy": "2022-12-20T11:56:08.973138Z",
     "iopub.status.idle": "2022-12-20T11:56:09.883113Z",
     "shell.execute_reply": "2022-12-20T11:56:09.881565Z"
    },
    "papermill": {
     "duration": 0.918275,
     "end_time": "2022-12-20T11:56:09.885614",
     "exception": false,
     "start_time": "2022-12-20T11:56:08.967339",
     "status": "completed"
    },
    "tags": []
   },
   "outputs": [
    {
     "name": "stdout",
     "output_type": "stream",
     "text": [
      "['female' 'male']\n",
      "['C' 'Q' 'S' 'U']\n"
     ]
    },
    {
     "data": {
      "text/html": [
       "<div>\n",
       "<style scoped>\n",
       "    .dataframe tbody tr th:only-of-type {\n",
       "        vertical-align: middle;\n",
       "    }\n",
       "\n",
       "    .dataframe tbody tr th {\n",
       "        vertical-align: top;\n",
       "    }\n",
       "\n",
       "    .dataframe thead th {\n",
       "        text-align: right;\n",
       "    }\n",
       "</style>\n",
       "<table border=\"1\" class=\"dataframe\">\n",
       "  <thead>\n",
       "    <tr style=\"text-align: right;\">\n",
       "      <th></th>\n",
       "      <th>Survived</th>\n",
       "      <th>Pclass</th>\n",
       "      <th>Sex</th>\n",
       "      <th>Age</th>\n",
       "      <th>SibSp</th>\n",
       "      <th>Parch</th>\n",
       "      <th>Fare</th>\n",
       "      <th>Embarked</th>\n",
       "    </tr>\n",
       "  </thead>\n",
       "  <tbody>\n",
       "    <tr>\n",
       "      <th>0</th>\n",
       "      <td>0</td>\n",
       "      <td>3</td>\n",
       "      <td>1</td>\n",
       "      <td>22.0</td>\n",
       "      <td>1</td>\n",
       "      <td>0</td>\n",
       "      <td>7.2500</td>\n",
       "      <td>2</td>\n",
       "    </tr>\n",
       "    <tr>\n",
       "      <th>1</th>\n",
       "      <td>1</td>\n",
       "      <td>1</td>\n",
       "      <td>0</td>\n",
       "      <td>38.0</td>\n",
       "      <td>1</td>\n",
       "      <td>0</td>\n",
       "      <td>71.2833</td>\n",
       "      <td>0</td>\n",
       "    </tr>\n",
       "    <tr>\n",
       "      <th>2</th>\n",
       "      <td>1</td>\n",
       "      <td>3</td>\n",
       "      <td>0</td>\n",
       "      <td>26.0</td>\n",
       "      <td>0</td>\n",
       "      <td>0</td>\n",
       "      <td>7.9250</td>\n",
       "      <td>2</td>\n",
       "    </tr>\n",
       "    <tr>\n",
       "      <th>3</th>\n",
       "      <td>1</td>\n",
       "      <td>1</td>\n",
       "      <td>0</td>\n",
       "      <td>35.0</td>\n",
       "      <td>1</td>\n",
       "      <td>0</td>\n",
       "      <td>53.1000</td>\n",
       "      <td>2</td>\n",
       "    </tr>\n",
       "    <tr>\n",
       "      <th>4</th>\n",
       "      <td>0</td>\n",
       "      <td>3</td>\n",
       "      <td>1</td>\n",
       "      <td>35.0</td>\n",
       "      <td>0</td>\n",
       "      <td>0</td>\n",
       "      <td>8.0500</td>\n",
       "      <td>2</td>\n",
       "    </tr>\n",
       "  </tbody>\n",
       "</table>\n",
       "</div>"
      ],
      "text/plain": [
       "   Survived  Pclass  Sex   Age  SibSp  Parch     Fare  Embarked\n",
       "0         0       3    1  22.0      1      0   7.2500         2\n",
       "1         1       1    0  38.0      1      0  71.2833         0\n",
       "2         1       3    0  26.0      0      0   7.9250         2\n",
       "3         1       1    0  35.0      1      0  53.1000         2\n",
       "4         0       3    1  35.0      0      0   8.0500         2"
      ]
     },
     "execution_count": 5,
     "metadata": {},
     "output_type": "execute_result"
    }
   ],
   "source": [
    "from sklearn import preprocessing #using sklearn to convert strings to actual values\n",
    "le = preprocessing.LabelEncoder() #Using the label encoder\n",
    "columns = [\"Sex\", \"Embarked\"]\n",
    "\n",
    "for col in columns:\n",
    "    data[col] = le.fit_transform(data[col]) #Doing the mapping of the data column\n",
    "    test[col] = le.transform(test[col]) #Doing the mapping of the data column\n",
    "    print(le.classes_) # print to see the conversion of the classes to integer e.g Femle is 1\n",
    "      \n",
    "data.head(5)"
   ]
  },
  {
   "cell_type": "code",
   "execution_count": 6,
   "id": "12d2667f",
   "metadata": {
    "execution": {
     "iopub.execute_input": "2022-12-20T11:56:09.895206Z",
     "iopub.status.busy": "2022-12-20T11:56:09.894848Z",
     "iopub.status.idle": "2022-12-20T11:56:10.017914Z",
     "shell.execute_reply": "2022-12-20T11:56:10.016621Z"
    },
    "papermill": {
     "duration": 0.130452,
     "end_time": "2022-12-20T11:56:10.020123",
     "exception": false,
     "start_time": "2022-12-20T11:56:09.889671",
     "status": "completed"
    },
    "tags": []
   },
   "outputs": [],
   "source": [
    "#Using logistic regression to have a validation set to see how good it is\n",
    "from sklearn.linear_model import LogisticRegression \n",
    "from sklearn.model_selection import train_test_split\n",
    "\n",
    "y = data[\"Survived\"]\n",
    "X = data.drop(\"Survived\", axis=1) #Dropping the column for the survived\n",
    "\n",
    "X_train, X_val, y_train, y_val = train_test_split(X, y, test_size=0.2, random_state=42)"
   ]
  },
  {
   "cell_type": "code",
   "execution_count": 7,
   "id": "7761a187",
   "metadata": {
    "execution": {
     "iopub.execute_input": "2022-12-20T11:56:10.032838Z",
     "iopub.status.busy": "2022-12-20T11:56:10.032150Z",
     "iopub.status.idle": "2022-12-20T11:56:10.065530Z",
     "shell.execute_reply": "2022-12-20T11:56:10.064410Z"
    },
    "papermill": {
     "duration": 0.041507,
     "end_time": "2022-12-20T11:56:10.068061",
     "exception": false,
     "start_time": "2022-12-20T11:56:10.026554",
     "status": "completed"
    },
    "tags": []
   },
   "outputs": [],
   "source": [
    "clf = LogisticRegression(random_state=0, max_iter=1000).fit(X_train, y_train) #Logistic Regression to the classifier to specify the random state"
   ]
  },
  {
   "cell_type": "code",
   "execution_count": 8,
   "id": "71a19ca8",
   "metadata": {
    "execution": {
     "iopub.execute_input": "2022-12-20T11:56:10.076876Z",
     "iopub.status.busy": "2022-12-20T11:56:10.076549Z",
     "iopub.status.idle": "2022-12-20T11:56:10.086859Z",
     "shell.execute_reply": "2022-12-20T11:56:10.085588Z"
    },
    "papermill": {
     "duration": 0.017001,
     "end_time": "2022-12-20T11:56:10.088880",
     "exception": false,
     "start_time": "2022-12-20T11:56:10.071879",
     "status": "completed"
    },
    "tags": []
   },
   "outputs": [
    {
     "data": {
      "text/plain": [
       "0.8100558659217877"
      ]
     },
     "execution_count": 8,
     "metadata": {},
     "output_type": "execute_result"
    }
   ],
   "source": [
    "predictions = clf.predict(X_val) #Know how good it is on the validation data that it hasn't seen\n",
    "from sklearn.metrics import accuracy_score #Getting the accuracy\n",
    "accuracy_score(y_val, predictions)"
   ]
  },
  {
   "cell_type": "code",
   "execution_count": 9,
   "id": "3fd2f858",
   "metadata": {
    "execution": {
     "iopub.execute_input": "2022-12-20T11:56:10.097651Z",
     "iopub.status.busy": "2022-12-20T11:56:10.097312Z",
     "iopub.status.idle": "2022-12-20T11:56:10.104924Z",
     "shell.execute_reply": "2022-12-20T11:56:10.103640Z"
    },
    "papermill": {
     "duration": 0.014905,
     "end_time": "2022-12-20T11:56:10.107599",
     "exception": false,
     "start_time": "2022-12-20T11:56:10.092694",
     "status": "completed"
    },
    "tags": []
   },
   "outputs": [],
   "source": [
    "submission_preds = clf.predict(test) #Getting the submission Predictions"
   ]
  },
  {
   "cell_type": "code",
   "execution_count": 10,
   "id": "e5490126",
   "metadata": {
    "execution": {
     "iopub.execute_input": "2022-12-20T11:56:10.117613Z",
     "iopub.status.busy": "2022-12-20T11:56:10.117179Z",
     "iopub.status.idle": "2022-12-20T11:56:10.123066Z",
     "shell.execute_reply": "2022-12-20T11:56:10.122269Z"
    },
    "papermill": {
     "duration": 0.01297,
     "end_time": "2022-12-20T11:56:10.124735",
     "exception": false,
     "start_time": "2022-12-20T11:56:10.111765",
     "status": "completed"
    },
    "tags": []
   },
   "outputs": [],
   "source": [
    "#Generating a CSV file that can be submitted to Kaggle\n",
    "df = pd.DataFrame({\"PassengerId\": test_ids.values,\n",
    "                   \"Survived\": submission_preds,\n",
    "                  })"
   ]
  },
  {
   "cell_type": "code",
   "execution_count": 11,
   "id": "4a74e782",
   "metadata": {
    "execution": {
     "iopub.execute_input": "2022-12-20T11:56:10.134321Z",
     "iopub.status.busy": "2022-12-20T11:56:10.133909Z",
     "iopub.status.idle": "2022-12-20T11:56:10.143023Z",
     "shell.execute_reply": "2022-12-20T11:56:10.141802Z"
    },
    "papermill": {
     "duration": 0.016347,
     "end_time": "2022-12-20T11:56:10.145145",
     "exception": false,
     "start_time": "2022-12-20T11:56:10.128798",
     "status": "completed"
    },
    "tags": []
   },
   "outputs": [],
   "source": [
    "df.to_csv(\"final submission.csv\", index=False)"
   ]
  },
  {
   "cell_type": "code",
   "execution_count": null,
   "id": "72ff4967",
   "metadata": {
    "papermill": {
     "duration": 0.004248,
     "end_time": "2022-12-20T11:56:10.153959",
     "exception": false,
     "start_time": "2022-12-20T11:56:10.149711",
     "status": "completed"
    },
    "tags": []
   },
   "outputs": [],
   "source": []
  }
 ],
 "metadata": {
  "kernelspec": {
   "display_name": "Python 3",
   "language": "python",
   "name": "python3"
  },
  "language_info": {
   "codemirror_mode": {
    "name": "ipython",
    "version": 3
   },
   "file_extension": ".py",
   "mimetype": "text/x-python",
   "name": "python",
   "nbconvert_exporter": "python",
   "pygments_lexer": "ipython3",
   "version": "3.7.12"
  },
  "papermill": {
   "default_parameters": {},
   "duration": 9.722018,
   "end_time": "2022-12-20T11:56:10.879508",
   "environment_variables": {},
   "exception": null,
   "input_path": "__notebook__.ipynb",
   "output_path": "__notebook__.ipynb",
   "parameters": {},
   "start_time": "2022-12-20T11:56:01.157490",
   "version": "2.3.4"
  }
 },
 "nbformat": 4,
 "nbformat_minor": 5
}
