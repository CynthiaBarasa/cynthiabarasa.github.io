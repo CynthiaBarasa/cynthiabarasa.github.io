{
 "cells": [
  {
   "cell_type": "code",
   "execution_count": 1,
   "id": "e45479f6",
   "metadata": {
    "_cell_guid": "b1076dfc-b9ad-4769-8c92-a6c4dae69d19",
    "_uuid": "8f2839f25d086af736a60e9eeb907d3b93b6e0e5",
    "execution": {
     "iopub.execute_input": "2022-12-19T13:18:47.565438Z",
     "iopub.status.busy": "2022-12-19T13:18:47.564932Z",
     "iopub.status.idle": "2022-12-19T13:18:47.577548Z",
     "shell.execute_reply": "2022-12-19T13:18:47.575980Z"
    },
    "papermill": {
     "duration": 0.022219,
     "end_time": "2022-12-19T13:18:47.580228",
     "exception": false,
     "start_time": "2022-12-19T13:18:47.558009",
     "status": "completed"
    },
    "tags": []
   },
   "outputs": [],
   "source": [
    "import pandas as pd   #data processing, CSV file I/O (e.g. pd.read_csv)"
   ]
  },
  {
   "cell_type": "code",
   "execution_count": 2,
   "id": "a31654d2",
   "metadata": {
    "execution": {
     "iopub.execute_input": "2022-12-19T13:18:47.590082Z",
     "iopub.status.busy": "2022-12-19T13:18:47.589599Z",
     "iopub.status.idle": "2022-12-19T13:18:47.598061Z",
     "shell.execute_reply": "2022-12-19T13:18:47.596667Z"
    },
    "papermill": {
     "duration": 0.018015,
     "end_time": "2022-12-19T13:18:47.602310",
     "exception": false,
     "start_time": "2022-12-19T13:18:47.584295",
     "status": "completed"
    },
    "tags": []
   },
   "outputs": [
    {
     "name": "stdout",
     "output_type": "stream",
     "text": [
      "/kaggle/input/titanic/train.csv\n",
      "/kaggle/input/titanic/test.csv\n",
      "/kaggle/input/titanic/gender_submission.csv\n"
     ]
    }
   ],
   "source": [
    "#list all files under the input directory\n",
    "import os\n",
    "for dirname, _, filenames in os.walk('/kaggle/input'):\n",
    "    for filename in filenames:\n",
    "        print(os.path.join(dirname, filename))"
   ]
  },
  {
   "cell_type": "code",
   "execution_count": 3,
   "id": "77f566e9",
   "metadata": {
    "execution": {
     "iopub.execute_input": "2022-12-19T13:18:47.614319Z",
     "iopub.status.busy": "2022-12-19T13:18:47.613883Z",
     "iopub.status.idle": "2022-12-19T13:18:47.677790Z",
     "shell.execute_reply": "2022-12-19T13:18:47.676486Z"
    },
    "papermill": {
     "duration": 0.072607,
     "end_time": "2022-12-19T13:18:47.680711",
     "exception": false,
     "start_time": "2022-12-19T13:18:47.608104",
     "status": "completed"
    },
    "tags": []
   },
   "outputs": [],
   "source": [
    "data = pd.read_csv('/kaggle/input/titanic/train.csv') #Load data that was downloaded from Kaggle, train data\n",
    "test = pd.read_csv('/kaggle/input/titanic/test.csv') #Load data that was downloaded from Kaggle, test data\n",
    "test_ids = test[\"PassengerId\"]\n",
    "\n",
    "def clean(data): #Created a clean function to get some data\n",
    "    data = data.drop([\"Ticket\", \"PassengerId\", \"Name\", \"Cabin\"], axis=1)\n",
    "    \n",
    "    #Dropped the Ticket, PassengerId, Name and Cabin because I think it doesn't give me a lot of information\n",
    "    \n",
    "    cols = [\"SibSp\", \"Parch\", \"Fare\", \"Age\"] #Columns that don't have a number in them\n",
    "    for col in cols: #going through the columns\n",
    "        data[col].fillna(data[col].median(), inplace=True) \n",
    "        #Converting the columns to numbers, fill in the numbers that are not filled with their mean.\n",
    "        \n",
    "    data.Embarked.fillna(\"U\", inplace=True) #Fill the embarked with missing datapoints with unknown tokens\n",
    "    return data\n",
    "\n",
    "data = clean(data)\n",
    "test = clean(test)"
   ]
  },
  {
   "cell_type": "code",
   "execution_count": 4,
   "id": "d70a7e27",
   "metadata": {
    "execution": {
     "iopub.execute_input": "2022-12-19T13:18:47.690749Z",
     "iopub.status.busy": "2022-12-19T13:18:47.690351Z",
     "iopub.status.idle": "2022-12-19T13:18:47.712836Z",
     "shell.execute_reply": "2022-12-19T13:18:47.711559Z"
    },
    "papermill": {
     "duration": 0.030661,
     "end_time": "2022-12-19T13:18:47.715308",
     "exception": false,
     "start_time": "2022-12-19T13:18:47.684647",
     "status": "completed"
    },
    "tags": []
   },
   "outputs": [
    {
     "data": {
      "text/html": [
       "<div>\n",
       "<style scoped>\n",
       "    .dataframe tbody tr th:only-of-type {\n",
       "        vertical-align: middle;\n",
       "    }\n",
       "\n",
       "    .dataframe tbody tr th {\n",
       "        vertical-align: top;\n",
       "    }\n",
       "\n",
       "    .dataframe thead th {\n",
       "        text-align: right;\n",
       "    }\n",
       "</style>\n",
       "<table border=\"1\" class=\"dataframe\">\n",
       "  <thead>\n",
       "    <tr style=\"text-align: right;\">\n",
       "      <th></th>\n",
       "      <th>Survived</th>\n",
       "      <th>Pclass</th>\n",
       "      <th>Sex</th>\n",
       "      <th>Age</th>\n",
       "      <th>SibSp</th>\n",
       "      <th>Parch</th>\n",
       "      <th>Fare</th>\n",
       "      <th>Embarked</th>\n",
       "    </tr>\n",
       "  </thead>\n",
       "  <tbody>\n",
       "    <tr>\n",
       "      <th>0</th>\n",
       "      <td>0</td>\n",
       "      <td>3</td>\n",
       "      <td>male</td>\n",
       "      <td>22.0</td>\n",
       "      <td>1</td>\n",
       "      <td>0</td>\n",
       "      <td>7.2500</td>\n",
       "      <td>S</td>\n",
       "    </tr>\n",
       "    <tr>\n",
       "      <th>1</th>\n",
       "      <td>1</td>\n",
       "      <td>1</td>\n",
       "      <td>female</td>\n",
       "      <td>38.0</td>\n",
       "      <td>1</td>\n",
       "      <td>0</td>\n",
       "      <td>71.2833</td>\n",
       "      <td>C</td>\n",
       "    </tr>\n",
       "    <tr>\n",
       "      <th>2</th>\n",
       "      <td>1</td>\n",
       "      <td>3</td>\n",
       "      <td>female</td>\n",
       "      <td>26.0</td>\n",
       "      <td>0</td>\n",
       "      <td>0</td>\n",
       "      <td>7.9250</td>\n",
       "      <td>S</td>\n",
       "    </tr>\n",
       "    <tr>\n",
       "      <th>3</th>\n",
       "      <td>1</td>\n",
       "      <td>1</td>\n",
       "      <td>female</td>\n",
       "      <td>35.0</td>\n",
       "      <td>1</td>\n",
       "      <td>0</td>\n",
       "      <td>53.1000</td>\n",
       "      <td>S</td>\n",
       "    </tr>\n",
       "    <tr>\n",
       "      <th>4</th>\n",
       "      <td>0</td>\n",
       "      <td>3</td>\n",
       "      <td>male</td>\n",
       "      <td>35.0</td>\n",
       "      <td>0</td>\n",
       "      <td>0</td>\n",
       "      <td>8.0500</td>\n",
       "      <td>S</td>\n",
       "    </tr>\n",
       "  </tbody>\n",
       "</table>\n",
       "</div>"
      ],
      "text/plain": [
       "   Survived  Pclass     Sex   Age  SibSp  Parch     Fare Embarked\n",
       "0         0       3    male  22.0      1      0   7.2500        S\n",
       "1         1       1  female  38.0      1      0  71.2833        C\n",
       "2         1       3  female  26.0      0      0   7.9250        S\n",
       "3         1       1  female  35.0      1      0  53.1000        S\n",
       "4         0       3    male  35.0      0      0   8.0500        S"
      ]
     },
     "execution_count": 4,
     "metadata": {},
     "output_type": "execute_result"
    }
   ],
   "source": [
    "data.head(5) #Drop some columns and limit them to 5"
   ]
  },
  {
   "cell_type": "code",
   "execution_count": 5,
   "id": "afef5765",
   "metadata": {
    "execution": {
     "iopub.execute_input": "2022-12-19T13:18:47.726458Z",
     "iopub.status.busy": "2022-12-19T13:18:47.725158Z",
     "iopub.status.idle": "2022-12-19T13:18:48.959815Z",
     "shell.execute_reply": "2022-12-19T13:18:48.957203Z"
    },
    "papermill": {
     "duration": 1.243719,
     "end_time": "2022-12-19T13:18:48.963193",
     "exception": false,
     "start_time": "2022-12-19T13:18:47.719474",
     "status": "completed"
    },
    "tags": []
   },
   "outputs": [
    {
     "name": "stdout",
     "output_type": "stream",
     "text": [
      "['female' 'male']\n",
      "['C' 'Q' 'S' 'U']\n"
     ]
    },
    {
     "data": {
      "text/html": [
       "<div>\n",
       "<style scoped>\n",
       "    .dataframe tbody tr th:only-of-type {\n",
       "        vertical-align: middle;\n",
       "    }\n",
       "\n",
       "    .dataframe tbody tr th {\n",
       "        vertical-align: top;\n",
       "    }\n",
       "\n",
       "    .dataframe thead th {\n",
       "        text-align: right;\n",
       "    }\n",
       "</style>\n",
       "<table border=\"1\" class=\"dataframe\">\n",
       "  <thead>\n",
       "    <tr style=\"text-align: right;\">\n",
       "      <th></th>\n",
       "      <th>Survived</th>\n",
       "      <th>Pclass</th>\n",
       "      <th>Sex</th>\n",
       "      <th>Age</th>\n",
       "      <th>SibSp</th>\n",
       "      <th>Parch</th>\n",
       "      <th>Fare</th>\n",
       "      <th>Embarked</th>\n",
       "    </tr>\n",
       "  </thead>\n",
       "  <tbody>\n",
       "    <tr>\n",
       "      <th>0</th>\n",
       "      <td>0</td>\n",
       "      <td>3</td>\n",
       "      <td>1</td>\n",
       "      <td>22.0</td>\n",
       "      <td>1</td>\n",
       "      <td>0</td>\n",
       "      <td>7.2500</td>\n",
       "      <td>2</td>\n",
       "    </tr>\n",
       "    <tr>\n",
       "      <th>1</th>\n",
       "      <td>1</td>\n",
       "      <td>1</td>\n",
       "      <td>0</td>\n",
       "      <td>38.0</td>\n",
       "      <td>1</td>\n",
       "      <td>0</td>\n",
       "      <td>71.2833</td>\n",
       "      <td>0</td>\n",
       "    </tr>\n",
       "    <tr>\n",
       "      <th>2</th>\n",
       "      <td>1</td>\n",
       "      <td>3</td>\n",
       "      <td>0</td>\n",
       "      <td>26.0</td>\n",
       "      <td>0</td>\n",
       "      <td>0</td>\n",
       "      <td>7.9250</td>\n",
       "      <td>2</td>\n",
       "    </tr>\n",
       "    <tr>\n",
       "      <th>3</th>\n",
       "      <td>1</td>\n",
       "      <td>1</td>\n",
       "      <td>0</td>\n",
       "      <td>35.0</td>\n",
       "      <td>1</td>\n",
       "      <td>0</td>\n",
       "      <td>53.1000</td>\n",
       "      <td>2</td>\n",
       "    </tr>\n",
       "    <tr>\n",
       "      <th>4</th>\n",
       "      <td>0</td>\n",
       "      <td>3</td>\n",
       "      <td>1</td>\n",
       "      <td>35.0</td>\n",
       "      <td>0</td>\n",
       "      <td>0</td>\n",
       "      <td>8.0500</td>\n",
       "      <td>2</td>\n",
       "    </tr>\n",
       "  </tbody>\n",
       "</table>\n",
       "</div>"
      ],
      "text/plain": [
       "   Survived  Pclass  Sex   Age  SibSp  Parch     Fare  Embarked\n",
       "0         0       3    1  22.0      1      0   7.2500         2\n",
       "1         1       1    0  38.0      1      0  71.2833         0\n",
       "2         1       3    0  26.0      0      0   7.9250         2\n",
       "3         1       1    0  35.0      1      0  53.1000         2\n",
       "4         0       3    1  35.0      0      0   8.0500         2"
      ]
     },
     "execution_count": 5,
     "metadata": {},
     "output_type": "execute_result"
    }
   ],
   "source": [
    "from sklearn import preprocessing #using sklearn to convert strings to actual values\n",
    "le = preprocessing.LabelEncoder() #Using the label encoder\n",
    "columns = [\"Sex\", \"Embarked\"]\n",
    "\n",
    "for col in columns:\n",
    "    data[col] = le.fit_transform(data[col]) #Doing the mapping of the data column\n",
    "    test[col] = le.transform(test[col]) #Doing the mapping of the data column\n",
    "    print(le.classes_) # print to see the conversion of the classes to integer e.g Femle is 1\n",
    "      \n",
    "data.head(5)"
   ]
  },
  {
   "cell_type": "code",
   "execution_count": 6,
   "id": "5dd823a1",
   "metadata": {
    "execution": {
     "iopub.execute_input": "2022-12-19T13:18:48.975198Z",
     "iopub.status.busy": "2022-12-19T13:18:48.974731Z",
     "iopub.status.idle": "2022-12-19T13:18:49.157293Z",
     "shell.execute_reply": "2022-12-19T13:18:49.155883Z"
    },
    "papermill": {
     "duration": 0.192753,
     "end_time": "2022-12-19T13:18:49.161098",
     "exception": false,
     "start_time": "2022-12-19T13:18:48.968345",
     "status": "completed"
    },
    "tags": []
   },
   "outputs": [],
   "source": [
    "#Using logistic regression to have a validation set to see how good it is\n",
    "from sklearn.linear_model import LogisticRegression \n",
    "from sklearn.model_selection import train_test_split\n",
    "\n",
    "y = data[\"Survived\"]\n",
    "X = data.drop(\"Survived\", axis=1) #Dropping the column for the survived\n",
    "\n",
    "X_train, X_val, y_train, y_val = train_test_split(X, y, test_size=0.2, random_state=42)"
   ]
  },
  {
   "cell_type": "code",
   "execution_count": 7,
   "id": "f491d93c",
   "metadata": {
    "execution": {
     "iopub.execute_input": "2022-12-19T13:18:49.172977Z",
     "iopub.status.busy": "2022-12-19T13:18:49.172564Z",
     "iopub.status.idle": "2022-12-19T13:18:49.217898Z",
     "shell.execute_reply": "2022-12-19T13:18:49.216454Z"
    },
    "papermill": {
     "duration": 0.055631,
     "end_time": "2022-12-19T13:18:49.221331",
     "exception": false,
     "start_time": "2022-12-19T13:18:49.165700",
     "status": "completed"
    },
    "tags": []
   },
   "outputs": [],
   "source": [
    "clf = LogisticRegression(random_state=0, max_iter=1000).fit(X_train, y_train) #Logistic Regression to the classifier to specify the random state"
   ]
  },
  {
   "cell_type": "code",
   "execution_count": 8,
   "id": "5505a463",
   "metadata": {
    "execution": {
     "iopub.execute_input": "2022-12-19T13:18:49.232803Z",
     "iopub.status.busy": "2022-12-19T13:18:49.232335Z",
     "iopub.status.idle": "2022-12-19T13:18:49.244358Z",
     "shell.execute_reply": "2022-12-19T13:18:49.242961Z"
    },
    "papermill": {
     "duration": 0.021743,
     "end_time": "2022-12-19T13:18:49.247575",
     "exception": false,
     "start_time": "2022-12-19T13:18:49.225832",
     "status": "completed"
    },
    "tags": []
   },
   "outputs": [
    {
     "data": {
      "text/plain": [
       "0.8100558659217877"
      ]
     },
     "execution_count": 8,
     "metadata": {},
     "output_type": "execute_result"
    }
   ],
   "source": [
    "predictions = clf.predict(X_val) #Know how good it is on the validation data that it hasn't seen\n",
    "from sklearn.metrics import accuracy_score #Getting the accuracy\n",
    "accuracy_score(y_val, predictions)"
   ]
  },
  {
   "cell_type": "code",
   "execution_count": 9,
   "id": "1c6db4ea",
   "metadata": {
    "execution": {
     "iopub.execute_input": "2022-12-19T13:18:49.259019Z",
     "iopub.status.busy": "2022-12-19T13:18:49.258566Z",
     "iopub.status.idle": "2022-12-19T13:18:49.267789Z",
     "shell.execute_reply": "2022-12-19T13:18:49.266356Z"
    },
    "papermill": {
     "duration": 0.018092,
     "end_time": "2022-12-19T13:18:49.270608",
     "exception": false,
     "start_time": "2022-12-19T13:18:49.252516",
     "status": "completed"
    },
    "tags": []
   },
   "outputs": [],
   "source": [
    "submission_preds = clf.predict(test) #Getting the submission Predictions"
   ]
  },
  {
   "cell_type": "code",
   "execution_count": 10,
   "id": "3da0f67b",
   "metadata": {
    "execution": {
     "iopub.execute_input": "2022-12-19T13:18:49.281797Z",
     "iopub.status.busy": "2022-12-19T13:18:49.281330Z",
     "iopub.status.idle": "2022-12-19T13:18:49.288069Z",
     "shell.execute_reply": "2022-12-19T13:18:49.286715Z"
    },
    "papermill": {
     "duration": 0.015639,
     "end_time": "2022-12-19T13:18:49.290851",
     "exception": false,
     "start_time": "2022-12-19T13:18:49.275212",
     "status": "completed"
    },
    "tags": []
   },
   "outputs": [],
   "source": [
    "#Generating a CSV file that can be submitted to Kaggle\n",
    "df = pd.DataFrame({\"PassengerId\": test_ids.values,\n",
    "                   \"Survived\": submission_preds,\n",
    "                  })"
   ]
  },
  {
   "cell_type": "code",
   "execution_count": 11,
   "id": "5272fa6b",
   "metadata": {
    "execution": {
     "iopub.execute_input": "2022-12-19T13:18:49.302430Z",
     "iopub.status.busy": "2022-12-19T13:18:49.301973Z",
     "iopub.status.idle": "2022-12-19T13:18:49.310668Z",
     "shell.execute_reply": "2022-12-19T13:18:49.309481Z"
    },
    "papermill": {
     "duration": 0.017987,
     "end_time": "2022-12-19T13:18:49.313536",
     "exception": false,
     "start_time": "2022-12-19T13:18:49.295549",
     "status": "completed"
    },
    "tags": []
   },
   "outputs": [],
   "source": [
    "df.to_csv(\"final submission.csv\", index=False)"
   ]
  },
  {
   "cell_type": "code",
   "execution_count": null,
   "id": "abf925da",
   "metadata": {
    "papermill": {
     "duration": 0.004616,
     "end_time": "2022-12-19T13:18:49.322784",
     "exception": false,
     "start_time": "2022-12-19T13:18:49.318168",
     "status": "completed"
    },
    "tags": []
   },
   "outputs": [],
   "source": []
  }
 ],
 "metadata": {
  "kernelspec": {
   "display_name": "Python 3",
   "language": "python",
   "name": "python3"
  },
  "language_info": {
   "codemirror_mode": {
    "name": "ipython",
    "version": 3
   },
   "file_extension": ".py",
   "mimetype": "text/x-python",
   "name": "python",
   "nbconvert_exporter": "python",
   "pygments_lexer": "ipython3",
   "version": "3.7.12"
  },
  "papermill": {
   "default_parameters": {},
   "duration": 13.217284,
   "end_time": "2022-12-19T13:18:50.151038",
   "environment_variables": {},
   "exception": null,
   "input_path": "__notebook__.ipynb",
   "output_path": "__notebook__.ipynb",
   "parameters": {},
   "start_time": "2022-12-19T13:18:36.933754",
   "version": "2.3.4"
  }
 },
 "nbformat": 4,
 "nbformat_minor": 5
}
